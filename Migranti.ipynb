{
 "cells": [
  {
   "cell_type": "code",
   "execution_count": 1,
   "metadata": {},
   "outputs": [],
   "source": [
    "# -*- coding: utf-8 -*-"
   ]
  },
  {
   "cell_type": "markdown",
   "metadata": {},
   "source": [
    "# Migranti\n",
    "\n",
    "Fonte Dati: ONU\n",
    "\n",
    "http://www.un.org/en/development/desa/population/migration/data/estimates2/index.shtml"
   ]
  },
  {
   "cell_type": "code",
   "execution_count": 2,
   "metadata": {},
   "outputs": [
    {
     "name": "stdout",
     "output_type": "stream",
     "text": [
      "Populating the interactive namespace from numpy and matplotlib\n"
     ]
    }
   ],
   "source": [
    "# Librerie\n",
    "import os\n",
    "import pandas as pd\n",
    "import numpy as np\n",
    "import matplotlib.pyplot as plt\n",
    "from matplotlib.ticker import FuncFormatter\n",
    "plt.style.use('ggplot')\n",
    "get_ipython().magic('pylab inline')\n",
    "from __future__ import unicode_literals"
   ]
  },
  {
   "cell_type": "code",
   "execution_count": 3,
   "metadata": {},
   "outputs": [],
   "source": [
    "# Cartelle Input/Output\n",
    "dir_stg = os.path.join(os.path.abspath(''),'stg')\n",
    "dir_out = os.path.join(os.path.abspath(''),'output')"
   ]
  },
  {
   "cell_type": "markdown",
   "metadata": {},
   "source": [
    "### G1 - Migranti per Paese e Anno"
   ]
  },
  {
   "cell_type": "code",
   "execution_count": 4,
   "metadata": {},
   "outputs": [],
   "source": [
    "# Totale migranti per paese e anno\n",
    "url = 'http://www.un.org/en/development/desa/population/migration/data/estimates2/data/'\n",
    "stock2017 = 'UN_MigrantStockTotal_2017.xlsx'"
   ]
  },
  {
   "cell_type": "code",
   "execution_count": 5,
   "metadata": {},
   "outputs": [],
   "source": [
    "# Recupero i Country Code\n",
    "file_country = os.path.join(dir_stg, 'UNSD — Methodology.xlsx')\n",
    "df_country = pd.read_excel(file_country)"
   ]
  },
  {
   "cell_type": "code",
   "execution_count": 6,
   "metadata": {},
   "outputs": [],
   "source": [
    "# Recupero il flusso sui Migranti\n",
    "columns=['sort','area','notes','M49 Code','type_data','1990','1995','2000','2005',\n",
    "'2010','2015','2017']\n",
    "\n",
    "df = pd.read_excel(\n",
    "    url+stock2017,\n",
    "    \"Table 1\",\n",
    "    skiprows=16,\n",
    "    header=None,\n",
    "    usecols=range(12),\n",
    "    names=columns)"
   ]
  },
  {
   "cell_type": "code",
   "execution_count": 7,
   "metadata": {},
   "outputs": [],
   "source": [
    "# Merge tra country code e flusso migranti\n",
    "df = df.merge(df_country,on='M49 Code')\n",
    "df = df[['M49 Code','ISO-alpha3 Code','area','Sub-region Name'\n",
    "   ,'Region Name','1990','1995','2000','2005','2010','2015','2017']]"
   ]
  },
  {
   "cell_type": "code",
   "execution_count": 8,
   "metadata": {},
   "outputs": [
    {
     "data": {
      "text/plain": [
       "Region Name\n",
       "Africa      24650223\n",
       "Americas    67172343\n",
       "Asia        79586709\n",
       "Europe      77812135\n",
       "Oceania      8410933\n",
       "Name: 2017, dtype: int64"
      ]
     },
     "execution_count": 8,
     "metadata": {},
     "output_type": "execute_result"
    }
   ],
   "source": [
    "# Totale migranti nel 2017 257M, cosi suddivisi:\n",
    "df.groupby('Region Name')['2017'].sum()"
   ]
  },
  {
   "cell_type": "code",
   "execution_count": 9,
   "metadata": {},
   "outputs": [],
   "source": [
    "# Prendo la TOP 6 in Europa, su Numeri Assoluti\n",
    "df_eur=df[['area','1990','1995','2000','2005',\n",
    "    '2010','2015','2017']][df['Region Name']=='Europe'].sort_values('2017',ascending=False).head(6)"
   ]
  },
  {
   "cell_type": "code",
   "execution_count": 10,
   "metadata": {},
   "outputs": [],
   "source": [
    "df_eur = df_eur.set_index('area').T"
   ]
  },
  {
   "cell_type": "code",
   "execution_count": 11,
   "metadata": {},
   "outputs": [
    {
     "data": {
      "text/html": [
       "<div>\n",
       "<style>\n",
       "    .dataframe thead tr:only-child th {\n",
       "        text-align: right;\n",
       "    }\n",
       "\n",
       "    .dataframe thead th {\n",
       "        text-align: left;\n",
       "    }\n",
       "\n",
       "    .dataframe tbody tr th {\n",
       "        vertical-align: top;\n",
       "    }\n",
       "</style>\n",
       "<table border=\"1\" class=\"dataframe\">\n",
       "  <thead>\n",
       "    <tr style=\"text-align: right;\">\n",
       "      <th>area</th>\n",
       "      <th>Germany</th>\n",
       "      <th>Russian Federation</th>\n",
       "      <th>United Kingdom</th>\n",
       "      <th>France</th>\n",
       "      <th>Spain</th>\n",
       "      <th>Italy</th>\n",
       "    </tr>\n",
       "  </thead>\n",
       "  <tbody>\n",
       "    <tr>\n",
       "      <th>1990</th>\n",
       "      <td>5936181</td>\n",
       "      <td>11524948</td>\n",
       "      <td>3650286</td>\n",
       "      <td>5897267</td>\n",
       "      <td>821605</td>\n",
       "      <td>1428221</td>\n",
       "    </tr>\n",
       "    <tr>\n",
       "      <th>1995</th>\n",
       "      <td>7464406</td>\n",
       "      <td>11928927</td>\n",
       "      <td>4155293</td>\n",
       "      <td>6087993</td>\n",
       "      <td>1020067</td>\n",
       "      <td>1774953</td>\n",
       "    </tr>\n",
       "    <tr>\n",
       "      <th>2000</th>\n",
       "      <td>8992631</td>\n",
       "      <td>11900297</td>\n",
       "      <td>4730165</td>\n",
       "      <td>6278718</td>\n",
       "      <td>1657285</td>\n",
       "      <td>2121690</td>\n",
       "    </tr>\n",
       "    <tr>\n",
       "      <th>2005</th>\n",
       "      <td>9402447</td>\n",
       "      <td>11667588</td>\n",
       "      <td>5926156</td>\n",
       "      <td>6737600</td>\n",
       "      <td>4107226</td>\n",
       "      <td>3954785</td>\n",
       "    </tr>\n",
       "    <tr>\n",
       "      <th>2010</th>\n",
       "      <td>9812263</td>\n",
       "      <td>11194710</td>\n",
       "      <td>7604583</td>\n",
       "      <td>7196481</td>\n",
       "      <td>6280065</td>\n",
       "      <td>5787898</td>\n",
       "    </tr>\n",
       "    <tr>\n",
       "      <th>2015</th>\n",
       "      <td>10220418</td>\n",
       "      <td>11643276</td>\n",
       "      <td>8411021</td>\n",
       "      <td>7918382</td>\n",
       "      <td>5891208</td>\n",
       "      <td>5805325</td>\n",
       "    </tr>\n",
       "    <tr>\n",
       "      <th>2017</th>\n",
       "      <td>12165083</td>\n",
       "      <td>11651509</td>\n",
       "      <td>8841717</td>\n",
       "      <td>7902783</td>\n",
       "      <td>5947106</td>\n",
       "      <td>5907461</td>\n",
       "    </tr>\n",
       "  </tbody>\n",
       "</table>\n",
       "</div>"
      ],
      "text/plain": [
       "area   Germany Russian Federation United Kingdom   France    Spain    Italy\n",
       "1990   5936181           11524948        3650286  5897267   821605  1428221\n",
       "1995   7464406           11928927        4155293  6087993  1020067  1774953\n",
       "2000   8992631           11900297        4730165  6278718  1657285  2121690\n",
       "2005   9402447           11667588        5926156  6737600  4107226  3954785\n",
       "2010   9812263           11194710        7604583  7196481  6280065  5787898\n",
       "2015  10220418           11643276        8411021  7918382  5891208  5805325\n",
       "2017  12165083           11651509        8841717  7902783  5947106  5907461"
      ]
     },
     "execution_count": 11,
     "metadata": {},
     "output_type": "execute_result"
    }
   ],
   "source": [
    "df_eur"
   ]
  },
  {
   "cell_type": "code",
   "execution_count": 19,
   "metadata": {},
   "outputs": [],
   "source": [
    "def millions(x, pos):\n",
    "    'The two args are the value and tick position'\n",
    "    return '%1.1fM' % (x*1e-6)"
   ]
  },
  {
   "cell_type": "code",
   "execution_count": 20,
   "metadata": {},
   "outputs": [
    {
     "data": {
      "image/png": "[encoded data removed]",
      "text/plain": [
       "<matplotlib.figure.Figure at 0x6af45270>"
      ]
     },
     "metadata": {},
     "output_type": "display_data"
    }
   ],
   "source": [
    "# stile\n",
    "style.use('fivethirtyeight')\n",
    "\n",
    "colors = ('b', 'g', 'r', 'c', 'm', 'y')\n",
    "\n",
    "# grafico a linee\n",
    "tp = df_eur.plot(kind='line',\n",
    "               legend = False,\n",
    "               figsize = (8,5),\n",
    "                color = colors)\n",
    "\n",
    "tp.tick_params(axis = 'both', which = 'major', labelsize = 10)\n",
    "\n",
    "tp.set_ylabel('N° Migranti',fontsize=8)\n",
    "tp.set_xlabel('Anno di Riferimento',fontsize=8)\n",
    "\n",
    "tp.axhline(y = 100000, color = 'black', linewidth = 0.8, alpha = 0.7)\n",
    "\n",
    "text = tp.text(x = -0.45, y = -2000000,     \n",
    "    s = 'www.ildatomancante.it                                                                                                                         Fonte: ONU',\n",
    "    fontsize = 10, color = '#f0f0f0', backgroundcolor = 'grey')\n",
    "\n",
    "# Adding a title and a subtitle\n",
    "tp.text(x = -0.45, y = 16500000, s = \"Numero Complessivo di Migranti - TOP 6 Paesi Europei\",\n",
    "               fontsize = 14, weight = 'bold', alpha = .75)\n",
    "tp.text(x = -0.45, y = 15200000, \n",
    "               s = \"Trend del numero di migranti presenti nei 6 principali paesi europei.\\nEs. il numero complessivo di migranti in Italia e in Spagna nell'anno 2017 sono 6 milioni.\",\n",
    "              fontsize = 10, alpha = .85)\n",
    "\n",
    "formatter = FuncFormatter(millions)\n",
    "tp.yaxis.set_major_formatter(formatter)\n",
    "\n",
    "# Add colored labels\n",
    "tp.text(x = 0, y = 7400000, s = 'Germania', color = colors[0], weight = 'bold', rotation = 25,\n",
    "              fontsize = 10)\n",
    "tp.text(x = 0, y = 12200000, s = 'Russia', color = colors[1], weight = 'bold', rotation = 9,\n",
    "              fontsize = 10)\n",
    "tp.text(x = 0, y = 4400000, s = 'Inghilterra', color = colors[2], weight = 'bold', rotation = 8,\n",
    "              fontsize = 10)\n",
    "tp.text(x = 0, y = 5500000, s = 'Francia', color = colors[3], weight = 'bold', rotation = 4,\n",
    "              fontsize = 10)\n",
    "tp.text(x = 0, y = 450000, s = 'Spagna', color = colors[4], weight = 'bold', rotation = 4,\n",
    "              fontsize = 10)\n",
    "tp.text(x = 0, y = 1800000, s = 'Italia', color = colors[5], weight = 'bold', rotation = 4,\n",
    "              fontsize = 10)\n",
    "\n",
    "fig_posts = tp.get_figure()\n",
    "fig_posts.savefig(os.path.join(dir_out,'Migranti.png'), format='png', dpi=300,bbox_inches='tight')\n",
    "fig_posts.savefig(os.path.join(dir_out,'Migranti.svg'), format='svg', dpi=300,bbox_inches='tight')"
   ]
  },
  {
   "cell_type": "markdown",
   "metadata": {},
   "source": [
    "### G2 - Flussi di migranti in Italia"
   ]
  },
  {
   "cell_type": "code",
   "execution_count": 21,
   "metadata": {},
   "outputs": [],
   "source": [
    "# Totale migranti per paese e anno\n",
    "url = 'http://www.un.org/en/development/desa/population/migration/data/estimates2/data/'\n",
    "origin2017 = 'UN_MigrantStockByOriginAndDestination_2017.xlsx'"
   ]
  },
  {
   "cell_type": "code",
   "execution_count": 26,
   "metadata": {},
   "outputs": [],
   "source": [
    "# Recupero i dati sul flusso dei migranti\n",
    "df = pd.read_excel(\n",
    "    url+origin2017,\n",
    "    \"Table 1\",\n",
    "    skiprows=15)"
   ]
  },
  {
   "cell_type": "code",
   "execution_count": 29,
   "metadata": {},
   "outputs": [],
   "source": [
    "df = df.rename(columns={\n",
    "    \"Unnamed: 0\": \"year\",\n",
    "    \"Unnamed: 1\": \"sort\",\n",
    "    \"Unnamed: 2\": \"area\",\n",
    "    \"Unnamed: 3\": \"notes\",\n",
    "    \"Unnamed: 4\": \"code\",\n",
    "    \"Unnamed: 5\": \"type\",\n",
    "                       })"
   ]
  },
  {
   "cell_type": "code",
   "execution_count": 45,
   "metadata": {},
   "outputs": [],
   "source": [
    "# Seleziono solo il 2017 e Italia\n",
    "df = df[(df['year']==2017) & (df['area']=='Italy')]"
   ]
  },
  {
   "cell_type": "code",
   "execution_count": 47,
   "metadata": {},
   "outputs": [],
   "source": [
    "# Rimuovo colonne che non servono\n",
    "df = df.drop(['year', 'sort','area','notes'\n",
    "             ,'code','type','Total'], axis=1)"
   ]
  },
  {
   "cell_type": "code",
   "execution_count": 57,
   "metadata": {},
   "outputs": [],
   "source": [
    "# Traspongo e rinomino la colonna\n",
    "df = df.T.rename(columns={1785: \"Italy 2017\"})"
   ]
  },
  {
   "cell_type": "code",
   "execution_count": 72,
   "metadata": {},
   "outputs": [],
   "source": [
    "# Elimino i vuoti e ordino\n",
    "df = df[df['Italy 2017']<>'..'].sort_values('Italy 2017',ascending=False)"
   ]
  },
  {
   "cell_type": "code",
   "execution_count": 82,
   "metadata": {},
   "outputs": [],
   "source": [
    "# Report Name e realizzo Chord con http://mkweb.bcgsc.ca/tableviewer/visualize/\n",
    "nomefile = 'ConnectionMigrants.xlsx'\n",
    "writer = pd.ExcelWriter(os.path.join(dir_out,nomefile))\n",
    "df.to_excel(writer,'Connections')\n",
    "writer.save()"
   ]
  }
 ],
 "metadata": {
  "kernelspec": {
   "display_name": "Python 2",
   "language": "python",
   "name": "python2"
  },
  "language_info": {
   "codemirror_mode": {
    "name": "ipython",
    "version": 2
   },
   "file_extension": ".py",
   "mimetype": "text/x-python",
   "name": "python",
   "nbconvert_exporter": "python",
   "pygments_lexer": "ipython2",
   "version": "2.7.9"
  }
 },
 "nbformat": 4,
 "nbformat_minor": 2
}
