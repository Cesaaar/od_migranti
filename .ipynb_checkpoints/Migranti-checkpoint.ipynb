{
 "cells": [
  {
   "cell_type": "markdown",
   "metadata": {},
   "source": [
    "# Migranti e Rifugiati"
   ]
  },
  {
   "cell_type": "markdown",
   "metadata": {},
   "source": [
    "## Migranti\n",
    "I principali dati sui migranti sono forniti dell'ONU.\n",
    "http://www.un.org/en/development/desa/population/migration/data/estimates2/index.shtml\n",
    "http://data.un.org/Default.aspx\n",
    "\n",
    "country code in ISO 3166-1"
   ]
  },
  {
   "cell_type": "code",
   "execution_count": 49,
   "metadata": {},
   "outputs": [],
   "source": [
    "import pandas as pd"
   ]
  },
  {
   "cell_type": "code",
   "execution_count": 50,
   "metadata": {},
   "outputs": [],
   "source": [
    "url = 'http://www.un.org/en/development/desa/population/migration/data/estimates2/data/'\n",
    "stock2017 = 'UN_MigrantStockTotal_2017.xlsx'\n",
    "flussi2017 = 'UN_MigrantStockByOriginAndDestination_2017'"
   ]
  },
  {
   "cell_type": "markdown",
   "metadata": {},
   "source": [
    "### Stock dei Migranti per Anno e Paese\n",
    "Cerchiamo di capire il numero totale dei migranti"
   ]
  },
  {
   "cell_type": "code",
   "execution_count": 51,
   "metadata": {},
   "outputs": [],
   "source": [
    "df_country = pd.read_excel('UNSD — Methodology.xlsx')"
   ]
  },
  {
   "cell_type": "code",
   "execution_count": 56,
   "metadata": {},
   "outputs": [],
   "source": [
    "columns=['sort','area','notes','M49 Code','type_data','1990','1995','2000','2005',\n",
    "'2010','2015','2017']"
   ]
  },
  {
   "cell_type": "code",
   "execution_count": 53,
   "metadata": {},
   "outputs": [],
   "source": [
    "df = pd.read_excel(\n",
    "    url+stock2017,\n",
    "    \"Table 1\",\n",
    "    skiprows=16,\n",
    "    header=None,\n",
    "    usecols=range(12),\n",
    "    names=columns)"
   ]
  },
  {
   "cell_type": "code",
   "execution_count": 54,
   "metadata": {},
   "outputs": [],
   "source": [
    "df = df.merge(df_country,on='M49 Code')"
   ]
  },
  {
   "cell_type": "code",
   "execution_count": 55,
   "metadata": {},
   "outputs": [
    {
     "data": {
      "text/html": [
       "<div>\n",
       "<style>\n",
       "    .dataframe thead tr:only-child th {\n",
       "        text-align: right;\n",
       "    }\n",
       "\n",
       "    .dataframe thead th {\n",
       "        text-align: left;\n",
       "    }\n",
       "\n",
       "    .dataframe tbody tr th {\n",
       "        vertical-align: top;\n",
       "    }\n",
       "</style>\n",
       "<table border=\"1\" class=\"dataframe\">\n",
       "  <thead>\n",
       "    <tr style=\"text-align: right;\">\n",
       "      <th></th>\n",
       "      <th>sort</th>\n",
       "      <th>area</th>\n",
       "      <th>notes</th>\n",
       "      <th>M49 Code</th>\n",
       "      <th>type_date</th>\n",
       "      <th>1990</th>\n",
       "      <th>1995</th>\n",
       "      <th>2000</th>\n",
       "      <th>2005</th>\n",
       "      <th>2010</th>\n",
       "      <th>...</th>\n",
       "      <th>Sub-region Code</th>\n",
       "      <th>Sub-region Name</th>\n",
       "      <th>Intermediate Region Code</th>\n",
       "      <th>Intermediate Region Name</th>\n",
       "      <th>Country or Area</th>\n",
       "      <th>ISO-alpha3 Code</th>\n",
       "      <th>Least Developed Countries (LDC)</th>\n",
       "      <th>Land Locked Developing Countries (LLDC)</th>\n",
       "      <th>Small Island Developing States (SIDS)</th>\n",
       "      <th>Developed / Developing Countries</th>\n",
       "    </tr>\n",
       "  </thead>\n",
       "  <tbody>\n",
       "    <tr>\n",
       "      <th>0</th>\n",
       "      <td>14</td>\n",
       "      <td>Burundi</td>\n",
       "      <td>NaN</td>\n",
       "      <td>108</td>\n",
       "      <td>B R</td>\n",
       "      <td>333110</td>\n",
       "      <td>254853</td>\n",
       "      <td>125628</td>\n",
       "      <td>172874</td>\n",
       "      <td>235259</td>\n",
       "      <td>...</td>\n",
       "      <td>202.0</td>\n",
       "      <td>Sub-Saharan Africa</td>\n",
       "      <td>14.0</td>\n",
       "      <td>Eastern Africa</td>\n",
       "      <td>Burundi</td>\n",
       "      <td>BDI</td>\n",
       "      <td>x</td>\n",
       "      <td>x</td>\n",
       "      <td>NaN</td>\n",
       "      <td>Developing</td>\n",
       "    </tr>\n",
       "    <tr>\n",
       "      <th>1</th>\n",
       "      <td>15</td>\n",
       "      <td>Comoros</td>\n",
       "      <td>NaN</td>\n",
       "      <td>174</td>\n",
       "      <td>B</td>\n",
       "      <td>14079</td>\n",
       "      <td>13939</td>\n",
       "      <td>13799</td>\n",
       "      <td>13209</td>\n",
       "      <td>12618</td>\n",
       "      <td>...</td>\n",
       "      <td>202.0</td>\n",
       "      <td>Sub-Saharan Africa</td>\n",
       "      <td>14.0</td>\n",
       "      <td>Eastern Africa</td>\n",
       "      <td>Comoros</td>\n",
       "      <td>COM</td>\n",
       "      <td>x</td>\n",
       "      <td>NaN</td>\n",
       "      <td>x</td>\n",
       "      <td>Developing</td>\n",
       "    </tr>\n",
       "  </tbody>\n",
       "</table>\n",
       "<p>2 rows × 26 columns</p>\n",
       "</div>"
      ],
      "text/plain": [
       "   sort     area notes  M49 Code type_date    1990    1995    2000    2005  \\\n",
       "0    14  Burundi   NaN       108       B R  333110  254853  125628  172874   \n",
       "1    15  Comoros   NaN       174         B   14079   13939   13799   13209   \n",
       "\n",
       "     2010               ...                 Sub-region Code  \\\n",
       "0  235259               ...                           202.0   \n",
       "1   12618               ...                           202.0   \n",
       "\n",
       "      Sub-region Name  Intermediate Region Code Intermediate Region Name  \\\n",
       "0  Sub-Saharan Africa                      14.0           Eastern Africa   \n",
       "1  Sub-Saharan Africa                      14.0           Eastern Africa   \n",
       "\n",
       "   Country or Area ISO-alpha3 Code  Least Developed Countries (LDC)  \\\n",
       "0          Burundi             BDI                                x   \n",
       "1          Comoros             COM                                x   \n",
       "\n",
       "  Land Locked Developing Countries (LLDC)  \\\n",
       "0                                       x   \n",
       "1                                     NaN   \n",
       "\n",
       "   Small Island Developing States (SIDS) Developed / Developing Countries  \n",
       "0                                    NaN                       Developing  \n",
       "1                                      x                       Developing  \n",
       "\n",
       "[2 rows x 26 columns]"
      ]
     },
     "execution_count": 55,
     "metadata": {},
     "output_type": "execute_result"
    }
   ],
   "source": [
    "df.head(2)"
   ]
  }
 ],
 "metadata": {
  "kernelspec": {
   "display_name": "Python 2",
   "language": "python",
   "name": "python2"
  },
  "language_info": {
   "codemirror_mode": {
    "name": "ipython",
    "version": 2
   },
   "file_extension": ".py",
   "mimetype": "text/x-python",
   "name": "python",
   "nbconvert_exporter": "python",
   "pygments_lexer": "ipython2",
   "version": "2.7.9"
  }
 },
 "nbformat": 4,
 "nbformat_minor": 2
}
